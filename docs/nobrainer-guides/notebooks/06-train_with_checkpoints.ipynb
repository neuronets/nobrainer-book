{
 "cells": [
  {
   "cell_type": "markdown",
   "id": "00937cc9",
   "metadata": {
    "id": "ijHnNTIjDkt0",
    "lines_to_next_cell": 2
   },
   "source": [
    "# Train a neural network for binary volumetric brain extraction\n",
    "\n",
    "In this notebook, we will use the `nobrainer` python API to train two models for brain extraction. Brain extraction is a common step in processing neuroimaging data. It is a voxel-wise, binary classification task, where each voxel is classified as brain or not brain.\n",
    "\n",
    "In the following cells, we will:\n",
    "\n",
    "1. Get sample T1-weighted MR scans as features and FreeSurfer segmentations as labels.\n",
    "2. Convert the data to TFRecords format for use with neural networks.\n",
    "3. Create two `Datasets` of features and labels, one for training, one for evaluation.\n",
    "4. Instantiate a 3D convolutional neural network model for image segmentation called U-Net.\n",
    "5. Train on part of the data and evaluate on the rest of the data.\n",
    "6. Predict a brain mask using the trained model.\n",
    "7. Save the model to disk for future prediction and/or training.\n",
    "8. Load the model back from disk and show that brain extraction works as before saving.\n",
    "9. Demonstrate the same workflow using a different model for brain extraction called MeshNet."
   ]
  },
  {
   "cell_type": "markdown",
   "id": "0de23158",
   "metadata": {
    "lines_to_next_cell": 2
   },
   "source": [
    "## Google Colaboratory\n",
    "\n",
    "If you are using Colab, please switch your runtime to GPU. To do this, select `Runtime > Change runtime type` in the top menu. Then select GPU under `Hardware accelerator`. A GPU greatly speeds up training."
   ]
  },
  {
   "cell_type": "markdown",
   "id": "04ff5ed2",
   "metadata": {},
   "source": [
    "# Install and setup `nobrainer`"
   ]
  },
  {
   "cell_type": "code",
   "execution_count": null,
   "id": "e3986bcc",
   "metadata": {
    "id": "WhBnt2WdDlx9"
   },
   "outputs": [],
   "source": [
    "!pip install nobrainer nilearn"
   ]
  },
  {
   "cell_type": "code",
   "execution_count": null,
   "id": "cf08bf8d",
   "metadata": {
    "id": "Ht_CGSk1Dkt3",
    "lines_to_next_cell": 2
   },
   "outputs": [],
   "source": [
    "import os\n",
    "os.environ['TF_CPP_MIN_LOG_LEVEL'] = '3'\n",
    "import nobrainer"
   ]
  },
  {
   "cell_type": "markdown",
   "id": "1b2f389f",
   "metadata": {
    "id": "hVCchp9uDkt3"
   },
   "source": [
    "# Get sample features and labels\n",
    "\n",
    "We use 9 pairs of volumes for training and 1 pair of volumes for evaluation. Many more volumes would be required to train a model for any useful purpose."
   ]
  },
  {
   "cell_type": "code",
   "execution_count": null,
   "id": "56dbcbf1",
   "metadata": {
    "id": "YpqTxNu4Dkt4",
    "lines_to_next_cell": 2
   },
   "outputs": [],
   "source": [
    "csv_path = nobrainer.utils.get_data()\n",
    "filepaths = nobrainer.io.read_csv(csv_path)"
   ]
  },
  {
   "cell_type": "markdown",
   "id": "6f22618a",
   "metadata": {
    "id": "ScgF78rmDkt4"
   },
   "source": [
    "# Convert medical images to TFRecords"
   ]
  },
  {
   "cell_type": "code",
   "execution_count": null,
   "id": "a03f9cc5",
   "metadata": {
    "id": "n7lCL-55Ta4R",
    "lines_to_next_cell": 2
   },
   "outputs": [],
   "source": [
    "from nobrainer.dataset import Dataset"
   ]
  },
  {
   "cell_type": "code",
   "execution_count": null,
   "id": "3a0b6dac",
   "metadata": {
    "id": "Q3zPyRlbTa4R",
    "lines_to_next_cell": 2
   },
   "outputs": [],
   "source": [
    "n_epochs = 2\n",
    "dataset_train, dataset_eval = Dataset.from_files(\n",
    "    filepaths,\n",
    "    out_tfrec_dir=\"data/binseg\",\n",
    "    shard_size=3,\n",
    "    num_parallel_calls=None,\n",
    "    n_classes=1,\n",
    "    block_shape=(128, 128, 128),\n",
    ")\n",
    "\n",
    "dataset_train.\\\n",
    "    repeat(n_epochs).\\\n",
    "    shuffle(10)"
   ]
  },
  {
   "cell_type": "markdown",
   "id": "fafdd590",
   "metadata": {},
   "source": [
    "# U-Net model for brain mask extraction"
   ]
  },
  {
   "cell_type": "markdown",
   "id": "edd45af3",
   "metadata": {},
   "source": [
    "## Construct the model\n",
    "Set up the model to train in sessions, resuming from checkpoints each time. If no checkpoints exist in the specified location, training starts fresh.\n",
    "\n",
    "Here we'll train `nobrainer`'s implementation of the U-Net model for biomedical image segmentation, based on https://arxiv.org/abs/1606.06650.\n",
    "\n",
    "`nobrainer` provides several other segmentation models that could be used instead of `unet`. Another example is provided at the bottom of this guide, and for a complete list, see [this list](https://github.com/neuronets/nobrainer#models).\n",
    "\n",
    "Note that a useful segmentation model would need to be trained on *many* more examples than the 10 we are using here for demonstration."
   ]
  },
  {
   "cell_type": "code",
   "execution_count": null,
   "id": "3f8528d3",
   "metadata": {
    "id": "X8u_owicTa4T",
    "lines_to_next_cell": 2
   },
   "outputs": [],
   "source": [
    "from nobrainer.processing.segmentation import Segmentation\n",
    "from nobrainer.models import unet\n",
    "\n",
    "model_dir = \"brain_mask_extraction_model\"\n",
    "checkpoint_filepath = os.path.join(model_dir, \"checkpoints\", \"epoch_{epoch:03d}\")\n",
    "bem = Segmentation.init_with_checkpoints(\n",
    "    unet,\n",
    "    model_args=dict(batchnorm=True),\n",
    "    checkpoint_filepath=checkpoint_filepath,\n",
    ")"
   ]
  },
  {
   "cell_type": "markdown",
   "id": "ccc45bd8",
   "metadata": {},
   "source": [
    "## Train the model on the example data\n",
    "A summary of the model layers is printed before training starts.\n",
    "\n",
    "Note that the loss function after training is very high, and the dice coefficient (a measure of the accuracy of the model) is very low, indicating that the model is not doing a good job of binary segmentation. This is expected, as this is a toy problem to demonstrate the API. During successful training of a more practical model, you would see the loss drop and the dice rise as training progressed."
   ]
  },
  {
   "cell_type": "code",
   "execution_count": null,
   "id": "b45d8775",
   "metadata": {
    "lines_to_next_cell": 2
   },
   "outputs": [],
   "source": [
    "history = bem.fit(\n",
    "    dataset_train=dataset_train,\n",
    "    dataset_validate=dataset_eval,\n",
    "    epochs=n_epochs,\n",
    ")"
   ]
  },
  {
   "cell_type": "markdown",
   "id": "5934ed61",
   "metadata": {},
   "source": [
    "## Use the trained model to predict a binary brain mask\n",
    "The segmentation is bad, but that isn't surprising given the small dataset and short training."
   ]
  },
  {
   "cell_type": "code",
   "execution_count": null,
   "id": "136623d0",
   "metadata": {
    "id": "OWqLu2xFTa4U",
    "lines_to_next_cell": 2
   },
   "outputs": [],
   "source": [
    "import matplotlib.pyplot as plt\n",
    "from nilearn import plotting\n",
    "from nobrainer.volume import standardize\n",
    "\n",
    "image_path = filepaths[0][0]\n",
    "out = bem.predict(image_path, normalizer=standardize)\n",
    "out.shape\n",
    "\n",
    "fig = plt.figure(figsize=(12, 6))\n",
    "plotting.plot_roi(\n",
    "    out,\n",
    "    bg_img=image_path,\n",
    "    cut_coords=(0, 10, -21),\n",
    "    alpha=0.4,\n",
    "    vmin=0,\n",
    "    vmax=5,\n",
    "    figure=fig,\n",
    ")"
   ]
  },
  {
   "cell_type": "markdown",
   "id": "d6eb95d6",
   "metadata": {},
   "source": [
    "## Train the model a bit more, picking up where the last training session left off.\n",
    "This paradigm is useful in situations where training takes a long time and compute resources may be preemptable or available in chunks."
   ]
  },
  {
   "cell_type": "code",
   "execution_count": null,
   "id": "c8996419",
   "metadata": {
    "lines_to_next_cell": 2
   },
   "outputs": [],
   "source": [
    "bem = Segmentation.init_with_checkpoints(\n",
    "    unet,\n",
    "    model_args=dict(batchnorm=True),\n",
    "    checkpoint_filepath=checkpoint_filepath,\n",
    ")\n",
    "history = bem.fit(\n",
    "    dataset_train=dataset_train,\n",
    "    dataset_validate=dataset_eval,\n",
    "    epochs=n_epochs,\n",
    ")"
   ]
  },
  {
   "cell_type": "markdown",
   "id": "b70c6cee",
   "metadata": {},
   "source": [
    "## Save the trained model"
   ]
  },
  {
   "cell_type": "code",
   "execution_count": null,
   "id": "a3399045",
   "metadata": {
    "lines_to_next_cell": 2
   },
   "outputs": [],
   "source": [
    "bem.save(model_dir)"
   ]
  },
  {
   "cell_type": "markdown",
   "id": "fca1aebd",
   "metadata": {},
   "source": [
    "## Load the model from disk for prediction."
   ]
  },
  {
   "cell_type": "code",
   "execution_count": null,
   "id": "4fe3d2d5",
   "metadata": {
    "lines_to_next_cell": 2
   },
   "outputs": [],
   "source": [
    "bem = Segmentation.load(model_dir)"
   ]
  },
  {
   "cell_type": "markdown",
   "id": "98c10821",
   "metadata": {},
   "source": [
    "## Predict a brain mask from the loaded model\n",
    "The brain mask is identical to that predicted before saving."
   ]
  },
  {
   "cell_type": "code",
   "execution_count": null,
   "id": "548321b5",
   "metadata": {},
   "outputs": [],
   "source": [
    "out = bem.predict(image_path, normalizer=standardize)\n",
    "out.shape\n",
    "\n",
    "fig = plt.figure(figsize=(12, 6))\n",
    "plotting.plot_roi(\n",
    "    out,\n",
    "    bg_img=image_path,\n",
    "    cut_coords=(0, 10, -21),\n",
    "    alpha=0.4,\n",
    "    vmin=0,\n",
    "    vmax=5,\n",
    "    figure=fig,\n",
    ")"
   ]
  }
 ],
 "metadata": {
  "jupytext": {
   "main_language": "python"
  }
 },
 "nbformat": 4,
 "nbformat_minor": 5
}
