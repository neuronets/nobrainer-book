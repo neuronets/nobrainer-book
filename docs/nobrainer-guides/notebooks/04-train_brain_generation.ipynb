{
  "cells": [
    {
      "cell_type": "markdown",
      "metadata": {
        "id": "view-in-github",
        "colab_type": "text"
      },
      "source": [
        "<a href=\"https://colab.research.google.com/github/neuronets/nobrainer-book/blob/master/docs/nobrainer-guides/notebooks/04-train_brain_generation.ipynb\" target=\"_parent\"><img src=\"https://colab.research.google.com/assets/colab-badge.svg\" alt=\"Open In Colab\"/></a>"
      ]
    },
    {
      "cell_type": "markdown",
      "metadata": {
        "id": "a9eb7ee8"
      },
      "source": [
        "# Train a neural network to generate realistic brain volumes\n",
        "\n",
        "In this notebook, we will use `nobrainer` to train a model for generation of realistic, synthetic brain MRI volumes. We will use a Generative Adversarial Network to model the generation and use a progressive growing training method for high quality generation at higher resolutions.\n",
        "\n",
        "In the following cells, we will:\n",
        "\n",
        "1. Get sample T1-weighted MR scans as features.\n",
        "2. Convert the data to TFRecords format.\n",
        "3. Instantiate a progressive convolutional neural network for generator and discriminator.\n",
        "4. Create a Dataset of the features.\n",
        "5. Instantiate a trainer and choose a loss function to use.\n",
        "6. Train on part of the data in two phases (transition and resolution).\n",
        "7. Repeat steps 4-6 for each growing resolution.\n",
        "8. Generate some images using trained model"
      ]
    },
    {
      "cell_type": "markdown",
      "metadata": {
        "lines_to_next_cell": 2,
        "id": "bo32zIWgdmAF"
      },
      "source": [
        "## Google Colaboratory\n",
        "\n",
        "If you are using Colab, please switch your runtime to GPU. To do this, select `Runtime > Change runtime type` in the top menu. Then select GPU under `Hardware accelerator`. A GPU greatly speeds up training."
      ]
    },
    {
      "cell_type": "markdown",
      "metadata": {
        "id": "df5364cf"
      },
      "source": [
        "# Install and setup `nobrainer`"
      ]
    },
    {
      "cell_type": "code",
      "execution_count": null,
      "metadata": {
        "id": "sUwl5vYH7rrD"
      },
      "outputs": [],
      "source": [
        "pip install --no-cache-dir nilearn nobrainer"
      ]
    },
    {
      "cell_type": "code",
      "execution_count": null,
      "metadata": {
        "id": "OLNB6LfodmAF"
      },
      "outputs": [],
      "source": [
        "import os\n",
        "os.environ['TF_CPP_MIN_LOG_LEVEL'] = '3'\n",
        "import tensorflow as tf"
      ]
    },
    {
      "cell_type": "code",
      "execution_count": null,
      "metadata": {
        "id": "Qpm8u9O47opq",
        "lines_to_next_cell": 2
      },
      "outputs": [],
      "source": [
        "import nobrainer"
      ]
    },
    {
      "cell_type": "markdown",
      "metadata": {
        "id": "QAl3sk8e7opr"
      },
      "source": [
        "# Get sample features and labels\n",
        "\n",
        "We use 9 pairs of volumes for training and 1 pair of volumes for evaluation. Many more volumes would be required to train a model for any useful purpose."
      ]
    },
    {
      "cell_type": "code",
      "execution_count": null,
      "metadata": {
        "id": "yV9F64HE7opr"
      },
      "outputs": [],
      "source": [
        "csv_of_filepaths = nobrainer.utils.get_data()\n",
        "filepaths = nobrainer.io.read_csv(csv_of_filepaths)\n",
        "\n",
        "train_paths = filepaths[:9]"
      ]
    },
    {
      "cell_type": "markdown",
      "metadata": {
        "id": "jqzlAmyI7ops"
      },
      "source": [
        "# Convert medical images to TFRecords\n",
        "\n",
        "Remember how many full volumes are in the TFRecords files. This will be necessary to know how many steps are in on training epoch. The default training method needs to know this number, because Datasets don't always know how many items they contain."
      ]
    },
    {
      "cell_type": "code",
      "execution_count": null,
      "metadata": {
        "id": "Q8zfZCXpdmAG"
      },
      "outputs": [],
      "source": [
        "from nobrainer.dataset import write_multi_resolution"
      ]
    },
    {
      "cell_type": "code",
      "execution_count": null,
      "metadata": {
        "id": "g5W0zy-6dmAG"
      },
      "outputs": [],
      "source": [
        "datasets = write_multi_resolution(train_paths,\n",
        "                                  tfrecdir=\"data/generate\",\n",
        "                                  n_processes=None)"
      ]
    },
    {
      "cell_type": "code",
      "execution_count": null,
      "metadata": {
        "id": "TtW_cNmXdmAG"
      },
      "outputs": [],
      "source": [
        "print(datasets)"
      ]
    },
    {
      "cell_type": "markdown",
      "metadata": {
        "id": "spSqOwfcdmAG"
      },
      "source": [
        "# Prepare for training"
      ]
    },
    {
      "cell_type": "markdown",
      "metadata": {
        "id": "763ae766"
      },
      "source": [
        "## Hyperparameters\n",
        "\n",
        "The datasets have the following structure. One can adjust the `batch size` depending on compute power and available GPUs, but also epochs and normalizers.\n",
        "\n",
        "```python\n",
        "datasets = {8: {'file_pattern': 'data/generate/*res-008.tfrec',\n",
        "  'batch_size': 1,\n",
        "  'normalizer': None},\n",
        " 16: {'file_pattern': 'data/generate/*res-016.tfrec',\n",
        "  'batch_size': 1,\n",
        "  'normalizer': None},\n",
        " 32: {'file_pattern': 'data/generate/*res-032.tfrec',\n",
        "  'batch_size': 1,\n",
        "  'normalizer': None},\n",
        " 64: {'file_pattern': 'data/generate/*res-064.tfrec',\n",
        "  'batch_size': 1,\n",
        "  'normalizer': None},\n",
        " 128: {'file_pattern': 'data/generate/*res-128.tfrec',\n",
        "  'batch_size': 1,\n",
        "  'normalizer': None},\n",
        " 256: {'file_pattern': 'data/generate/*res-256.tfrec',\n",
        "  'batch_size': 1,\n",
        "  'normalizer': None}}\n",
        "```\n",
        "\n",
        "With this in mind, we can set the numbers of training epochs and the batch size for each resolution manually."
      ]
    },
    {
      "cell_type": "code",
      "execution_count": null,
      "metadata": {
        "lines_to_next_cell": 2,
        "id": "fd28585e"
      },
      "outputs": [],
      "source": [
        "# Adjust number of epochs\n",
        "datasets[8]['epochs'] = 1000\n",
        "datasets[16]['epochs'] = 1000\n",
        "datasets[32]['epochs'] = 400\n",
        "datasets[64]['epochs'] = 200\n",
        "\n",
        "# Adjust batch size from the default of 1\n",
        "datasets[8]['batch_size'] = 8\n",
        "datasets[16]['batch_size'] = 8\n",
        "datasets[32]['batch_size'] = 8\n",
        "datasets[64]['batch_size'] = 4"
      ]
    },
    {
      "cell_type": "markdown",
      "metadata": {
        "id": "f5140607"
      },
      "source": [
        "## Data normalization\n",
        "The generative model expects inputs (and produces outputs) in the range [-1. 1]. Here we use `nobrainer`'s volume processing utilities to convert the input volumes to that range"
      ]
    },
    {
      "cell_type": "code",
      "execution_count": null,
      "metadata": {
        "id": "RyH2rKuodmAG"
      },
      "outputs": [],
      "source": [
        "from nobrainer.volume import normalize, adjust_dynamic_range\n",
        "\n",
        "def scale(x):\n",
        "    \"\"\"Scale data to -1 to 1\"\"\"\n",
        "    return adjust_dynamic_range(normalize(x), [0, 1], [-1, 1])"
      ]
    },
    {
      "cell_type": "markdown",
      "metadata": {
        "id": "29205a74"
      },
      "source": [
        "# Model fit\n",
        "The fit progresses through the resolutions defined in `datasets`, from 8 to 256, doubling each resolution. Within each resolution, a transition and resolution phase of training is performed.\n",
        "\n",
        "Note that the `epochs` parameter to fit is superceded by the resolution-specific epochs we've modified above."
      ]
    },
    {
      "cell_type": "code",
      "execution_count": null,
      "metadata": {
        "lines_to_next_cell": 2,
        "id": "XIcA4am6dmAG"
      },
      "outputs": [],
      "source": [
        "from nobrainer.processing.generation import ProgressiveGeneration\n",
        "gen = ProgressiveGeneration() #latent_size=1024, g_fmap_base=2048, d_fmap_base=2048)\n",
        "gen.fit(datasets,\n",
        "        epochs=20,\n",
        "        normalizer=scale)"
      ]
    },
    {
      "cell_type": "markdown",
      "metadata": {
        "id": "GGiWwxR3dmAG"
      },
      "source": [
        "# Generate synthetic brain images from the trained PGAN model\n",
        "\n",
        "Note that one can return the native datatype by not passing a `data_type` argument. In this case, we want voxel values in the range [0, 255]."
      ]
    },
    {
      "cell_type": "code",
      "execution_count": null,
      "metadata": {
        "id": "s7ELzl9pdmAG"
      },
      "outputs": [],
      "source": [
        "from nilearn import plotting\n",
        "import numpy as np\n",
        "import matplotlib.pyplot as plt\n",
        "\n",
        "images = gen.generate(data_type=np.uint8, n_images=10)\n",
        "\n",
        "fig, ax = plt.subplots(len(images), 1, figsize=(18, 30))\n",
        "index = 0\n",
        "for img in images:\n",
        "    plotting.plot_anat(anat_img=img, figure=fig, axes=ax[index],\n",
        "                       draw_cross=False)\n",
        "    index += 1"
      ]
    },
    {
      "cell_type": "markdown",
      "metadata": {
        "id": "71bc27eb"
      },
      "source": [
        "# Save model"
      ]
    },
    {
      "cell_type": "code",
      "execution_count": null,
      "metadata": {
        "id": "6efebe87"
      },
      "outputs": [],
      "source": [
        "gen.save(\"data/brain_generator\")"
      ]
    },
    {
      "cell_type": "markdown",
      "metadata": {
        "id": "c1285942"
      },
      "source": [
        "Next, learn how to [use augmentatation to train models with less data](https://colab.research.google.com/github/neuronets/nobrainer-book/blob/master/docs/nobrainer-guides/notebooks/05-training_with_augmentation.ipynb)"
      ]
    }
  ],
  "metadata": {
    "accelerator": "GPU",
    "kernelspec": {
      "display_name": "Python 3 (ipykernel)",
      "language": "python",
      "name": "python3"
    },
    "language_info": {
      "codemirror_mode": {
        "name": "ipython",
        "version": 3
      },
      "file_extension": ".py",
      "mimetype": "text/x-python",
      "name": "python",
      "nbconvert_exporter": "python",
      "pygments_lexer": "ipython3",
      "version": "3.9.10"
    },
    "colab": {
      "provenance": [],
      "include_colab_link": true
    }
  },
  "nbformat": 4,
  "nbformat_minor": 0
}