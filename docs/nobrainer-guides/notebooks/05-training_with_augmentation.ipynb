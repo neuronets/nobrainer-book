{
 "cells": [
  {
   "cell_type": "markdown",
   "id": "551ae109",
   "metadata": {},
   "source": [
    "# Training a segmentation model with data augmentation\n",
    "\n",
    "In this notebook, we will demonstrate how to train a brain mask extraction model using `nobrainer` with training data augmentation. Augmentation is useful for improving the robustness of neural network models when a limited amount of training examples are available. The basic idea is that, by applying certain transformations to the training data prior to fitting the model, one can expand the input space to cover situations unaccounted for in the base training set.\n",
    "\n",
    "Nobrainer provides several methods of augmenting volumetric data including spatial and intensity transforms.\n",
    "\n",
    "\n",
    "In the following cells, we will:\n",
    "\n",
    "1. Get sample T1-weighted MR scans as features and FreeSurfer segmentations as labels.\n",
    "2. Convert the data to TFRecords format.\n",
    "3. Create two Datasets of the features and labels.\n",
    "4. Define a sequence of augmentations to be applied to the Dataset prior to training.\n",
    "5. Instantiate a 3D convolutional neural network.\n",
    "6. Train on part of the data.\n",
    "7. Evaluate on the rest of the data."
   ]
  },
  {
   "cell_type": "markdown",
   "metadata": {},
   "source": [
    "## Google Colaboratory\n",
    "\n",
    "If you are using Colab, please switch your runtime to GPU. To do this, select `Runtime > Change runtime type` in the top menu. Then select GPU under `Hardware accelerator`. A GPU greatly speeds up training."
   ]
  },
  {
   "cell_type": "markdown",
   "id": "a0f93bfb",
   "metadata": {},
   "source": [
    "# Install and setup `nobrainer`"
   ]
  },
  {
   "cell_type": "code",
   "execution_count": null,
   "metadata": {
    "id": "WhBnt2WdDlx9"
   },
   "outputs": [],
   "source": [
    "!pip install nobrainer nilearn"
   ]
  },
  {
   "cell_type": "code",
   "execution_count": null,
   "id": "a6176ec2",
   "metadata": {},
   "outputs": [],
   "source": [
    "import os\n",
    "os.environ['TF_CPP_MIN_LOG_LEVEL'] = '3'\n",
    "import nobrainer"
   ]
  },
  {
   "cell_type": "markdown",
   "metadata": {},
   "source": [
    "# Get sample features and labels"
   ]
  },
  {
   "cell_type": "code",
   "execution_count": null,
   "metadata": {},
   "outputs": [],
   "source": [
    "csv_of_filepaths = nobrainer.utils.get_data()\n",
    "filepaths = nobrainer.io.read_csv(csv_of_filepaths)"
   ]
  },
  {
   "cell_type": "code",
   "execution_count": null,
   "id": "c8b4bb15",
   "metadata": {
    "id": "YpqTxNu4Dkt4",
    "lines_to_next_cell": 2
   },
   "outputs": [],
   "source": [
    "csv_path = nobrainer.utils.get_data()\n",
    "filepaths = nobrainer.io.read_csv(csv_path)"
   ]
  },
  {
   "cell_type": "markdown",
   "metadata": {
    "id": "ScgF78rmDkt4"
   },
   "source": [
    "# Convert medical images to TFRecords"
   ]
  },
  {
   "cell_type": "code",
   "execution_count": null,
   "metadata": {
    "id": "n7lCL-55Ta4R",
    "lines_to_next_cell": 2
   },
   "outputs": [],
   "source": [
    "from nobrainer.dataset import Dataset"
   ]
  },
  {
   "cell_type": "code",
   "execution_count": null,
   "metadata": {
    "id": "Q3zPyRlbTa4R",
    "scrolled": true
   },
   "outputs": [],
   "source": [
    "n_epochs = 2\n",
    "DT = Dataset(\n",
    "    n_classes=1,\n",
    "    batch_size=2,\n",
    "    block_shape=(128, 128, 128),\n",
    "    n_epochs=n_epochs,\n",
    ")"
   ]
  },
  {
   "cell_type": "markdown",
   "metadata": {},
   "source": [
    "# Augmentation\n",
    "Take a look at different augmentation options in Nobrainer spatial and intensity transforms. To set training with multiple augmentations, the parameter `augment` will be set as a list where their order will determine the sequence of execution. For example augment option below will first add Gaussian noise and will then perform the random flip.\n",
    "Parameters of any given augmentation techniques can be set as shown below ( eg. 'noise_mean':0.1') otherwise default parameter settings will be applied.\n",
    "\n",
    "For training without augmentation, set 'augment = None'."
   ]
  },
  {
   "cell_type": "code",
   "execution_count": null,
   "metadata": {},
   "outputs": [],
   "source": [
    "from nobrainer.intensity_transforms import addGaussianNoise\n",
    "from nobrainer.spatial_transforms import randomflip_leftright\n",
    "augment = [\n",
    "    (addGaussianNoise, {'noise_mean': 0.1, 'noise_std': 0.5}),\n",
    "    (randomflip_leftright, {}),\n",
    "]"
   ]
  },
  {
   "cell_type": "code",
   "execution_count": null,
   "metadata": {},
   "outputs": [],
   "source": [
    "dataset_train, dataset_eval = DT.from_files(\n",
    "    paths=filepaths,\n",
    "    eval_size=0.1,\n",
    "    tfrecdir=\"data/binseg\",\n",
    "    shard_size=3,\n",
    "    augment=augment,\n",
    "    shuffle_buffer_size=10,\n",
    "    num_parallel_calls=None,\n",
    ")"
   ]
  },
  {
   "cell_type": "markdown",
   "metadata": {},
   "source": [
    "# Instantiate a neural network fro brain mask extraction"
   ]
  },
  {
   "cell_type": "code",
   "execution_count": null,
   "metadata": {
    "lines_to_next_cell": 2
   },
   "outputs": [],
   "source": [
    "from nobrainer.processing.segmentation import Segmentation\n",
    "from nobrainer.models import unet\n",
    "model = Segmentation(unet, model_args=dict(batchnorm=True))"
   ]
  },
  {
   "cell_type": "markdown",
   "id": "21cea544",
   "metadata": {},
   "source": [
    "# Train and evaluate the model\n"
   ]
  },
  {
   "cell_type": "code",
   "execution_count": null,
   "metadata": {
    "lines_to_next_cell": 2
   },
   "outputs": [],
   "source": [
    "history = model.fit(\n",
    "    dataset_train=dataset_train,\n",
    "    dataset_validate=dataset_eval,\n",
    "    epochs=n_epochs,\n",
    ")"
   ]
  },
  {
   "cell_type": "markdown",
   "id": "26eff2d3",
   "metadata": {},
   "source": [
    "## Use the trained model to predict a binary brain mask"
   ]
  },
  {
   "cell_type": "code",
   "execution_count": null,
   "id": "aac8a61b",
   "metadata": {},
   "outputs": [],
   "source": [
    "import matplotlib.pyplot as plt\n",
    "from nilearn import plotting\n",
    "from nobrainer.volume import standardize\n",
    "\n",
    "image_path = filepaths[0][0]\n",
    "out = model.predict(image_path, normalizer=standardize)\n",
    "out.shape\n",
    "\n",
    "fig = plt.figure(figsize=(12, 6))\n",
    "plotting.plot_roi(\n",
    "    out,\n",
    "    bg_img=image_path,\n",
    "    cut_coords=(0, 10, -21),\n",
    "    alpha=0.4,\n",
    "    vmin=0,\n",
    "    vmax=5,\n",
    "    figure=fig,\n",
    ")"
   ]
  }
 ],
 "metadata": {
  "kernelspec": {
   "display_name": "Python 3",
   "language": "python",
   "name": "python3"
  },
  "language_info": {
   "codemirror_mode": {
    "name": "ipython",
    "version": 3
   },
   "file_extension": ".py",
   "mimetype": "text/x-python",
   "name": "python",
   "nbconvert_exporter": "python",
   "pygments_lexer": "ipython3",
   "version": "3.7.4"
  }
 },
 "nbformat": 4,
 "nbformat_minor": 2
}
