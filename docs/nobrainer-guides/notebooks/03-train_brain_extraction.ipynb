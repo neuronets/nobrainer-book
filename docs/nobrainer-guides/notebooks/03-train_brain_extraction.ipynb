{
 "cells": [
  {
   "cell_type": "markdown",
   "metadata": {
    "id": "ijHnNTIjDkt0"
   },
   "source": [
    "# Train a neural network for binary volumetric brain extraction\n",
    "\n",
    "In this notebook, we will use the `nobrainer` python API to train two models for brain extraction. Brain extraction is a common step in processing neuroimaging data. It is a voxel-wise, binary classification task, where each voxel is classified as brain or not brain.\n",
    "\n",
    "In the following cells, we will:\n",
    "\n",
    "1. Get sample T1-weighted MR scans as features and FreeSurfer segmentations as labels.\n",
    "2. Convert the data to TFRecords format for use with neural networks.\n",
    "3. Create two `Datasets` of features and labels, one for training, one for evaluation.\n",
    "4. Instantiate a 3D convolutional neural network model for image segmentation called U-Net.\n",
    "5. Train on part of the data and evaluate on the rest of the data.\n",
    "6. Predict a brain mask using the trained model.\n",
    "7. Save the model to disk for future prediction and/or training.\n",
    "8. Load the model back from disk and show that brain extraction works as before saving.\n",
    "9. Demonstrate the same workflow using a different model for brain extraction called MeshNet.\n",
    "\n",
    "\n",
    "## Google Colaboratory\n",
    "\n",
    "If you are using Colab, please switch your runtime to GPU. To do this, select `Runtime > Change runtime type` in the top menu. Then select GPU under `Hardware accelerator`. A GPU greatly speeds up training.\n",
    "\n",
    "\n",
    "# Install and setup `nobrainer`"
   ]
  },
  {
   "cell_type": "code",
   "execution_count": null,
   "metadata": {
    "id": "WhBnt2WdDlx9"
   },
   "outputs": [],
   "source": [
    "!pip install nobrainer nilearn"
   ]
  },
  {
   "cell_type": "code",
   "execution_count": null,
   "metadata": {
    "id": "Ht_CGSk1Dkt3",
    "lines_to_next_cell": 2
   },
   "outputs": [],
   "source": [
    "import os\n",
    "os.environ['TF_CPP_MIN_LOG_LEVEL'] = '3'\n",
    "import nobrainer"
   ]
  },
  {
   "cell_type": "markdown",
   "metadata": {
    "id": "hVCchp9uDkt3"
   },
   "source": [
    "# Get sample features and labels\n",
    "\n",
    "We use 9 pairs of volumes for training and 1 pair of volumes for evaluation. Many more volumes would be required to train a model for any useful purpose."
   ]
  },
  {
   "cell_type": "code",
   "execution_count": null,
   "metadata": {
    "id": "YpqTxNu4Dkt4",
    "lines_to_next_cell": 2
   },
   "outputs": [],
   "source": [
    "csv_path = nobrainer.utils.get_data()\n",
    "filepaths = nobrainer.io.read_csv(csv_path)"
   ]
  },
  {
   "cell_type": "markdown",
   "metadata": {
    "id": "ScgF78rmDkt4"
   },
   "source": [
    "# Convert medical images to TFRecords"
   ]
  },
  {
   "cell_type": "code",
   "execution_count": null,
   "metadata": {
    "id": "n7lCL-55Ta4R",
    "lines_to_next_cell": 2
   },
   "outputs": [],
   "source": [
    "from nobrainer.dataset import Dataset"
   ]
  },
  {
   "cell_type": "code",
   "execution_count": null,
   "metadata": {
    "id": "Q3zPyRlbTa4R",
    "lines_to_next_cell": 2
   },
   "outputs": [],
   "source": [
    "n_epochs = 2\n",
    "DT = Dataset(n_classes=1,\n",
    "             batch_size=2,\n",
    "             block_shape=(128, 128, 128),\n",
    "             n_epochs=n_epochs)\n",
    "\n",
    "dataset_train, dataset_eval = DT.from_files(paths=filepaths,\n",
    "                                            eval_size=0.1,\n",
    "                                            tfrecdir=\"data/binseg\",\n",
    "                                            shard_size=3,\n",
    "                                            augment=None,\n",
    "                                            shuffle_buffer_size=10,\n",
    "                                            num_parallel_calls=None)"
   ]
  },
  {
   "cell_type": "markdown",
   "id": "9a8c9d34",
   "metadata": {},
   "source": [
    "# U-Net model for brain mask extraction"
   ]
  },
  {
   "cell_type": "markdown",
   "id": "5dd6eda1",
   "metadata": {},
   "source": [
    "## Construct the model\n",
    "Here we'll train `nobrainer`'s implementation of the U-Net model for biomedical image segmentation, based on https://arxiv.org/abs/1606.06650.\n",
    "\n",
    "`nobrainer` provides several other segmentation models that could be used instead of `unet`. Another example is provided at the bottom of this guide, and for a complete list, see [this list](https://github.com/neuronets/nobrainer#models).\n",
    "\n",
    "Note that a useful segmentation model would need to be trained on *many* more examples than the 10 we are using here for demonstration."
   ]
  },
  {
   "cell_type": "code",
   "execution_count": null,
   "metadata": {
    "id": "X8u_owicTa4T",
    "lines_to_next_cell": 2
   },
   "outputs": [],
   "source": [
    "from nobrainer.processing.segmentation import Segmentation\n",
    "from nobrainer.models import unet\n",
    "\n",
    "bem = Segmentation(unet, model_args=dict(batchnorm=True))"
   ]
  },
  {
   "cell_type": "markdown",
   "id": "cb82dcc4",
   "metadata": {},
   "source": [
    "## Train the model on the example data\n",
    "A summary of the model layers is printed before training starts.\n",
    "\n",
    "Note that the loss function after training is very high, and the dice coefficient (a measure of the accuracy of the model) is very low, indicating that the model is not doing a good job of binary segmentation. This is expected, as this is a toy problem to demonstrate the API. During successful training of a more practical model, you would see the loss drop and the dice rise as training progressed."
   ]
  },
  {
   "cell_type": "code",
   "execution_count": null,
   "id": "1171a6c6",
   "metadata": {
    "lines_to_next_cell": 2
   },
   "outputs": [],
   "source": [
    "history = bem.fit(dataset_train=dataset_train,\n",
    "                  dataset_validate=dataset_eval,\n",
    "                  epochs=n_epochs,\n",
    "                  multi_gpu=True,\n",
    "                  )"
   ]
  },
  {
   "cell_type": "markdown",
   "id": "3edc1589",
   "metadata": {},
   "source": [
    "## Use the trained model to predict a binary brain mask\n",
    "The segmentation is bad, but that isn't surprising given the small dataset and short training."
   ]
  },
  {
   "cell_type": "code",
   "execution_count": null,
   "metadata": {
    "id": "OWqLu2xFTa4U",
    "lines_to_next_cell": 2
   },
   "outputs": [],
   "source": [
    "import matplotlib.pyplot as plt\n",
    "from nilearn import plotting\n",
    "from nobrainer.volume import standardize\n",
    "\n",
    "image_path = filepaths[0][0]\n",
    "out = bem.predict(image_path, normalizer=standardize)\n",
    "out.shape\n",
    "\n",
    "fig = plt.figure(figsize=(12, 6))\n",
    "plotting.plot_roi(out, bg_img=image_path, cut_coords=(0, 10, -21), alpha=0.4, vmin=0, vmax=5, figure=fig)"
   ]
  },
  {
   "cell_type": "markdown",
   "id": "2913932d",
   "metadata": {},
   "source": [
    "## Save the trained model"
   ]
  },
  {
   "cell_type": "code",
   "execution_count": null,
   "metadata": {
    "lines_to_next_cell": 2
   },
   "outputs": [],
   "source": [
    "bem.save(\"data/unet-brainmask-toy\")"
   ]
  },
  {
   "cell_type": "markdown",
   "id": "6788df95",
   "metadata": {},
   "source": [
    "## Load the model from disk"
   ]
  },
  {
   "cell_type": "code",
   "execution_count": null,
   "metadata": {
    "lines_to_next_cell": 2
   },
   "outputs": [],
   "source": [
    "bem = Segmentation.load(\"data/unet-brainmask-toy\")"
   ]
  },
  {
   "cell_type": "markdown",
   "id": "94058c97",
   "metadata": {},
   "source": [
    "## Predict a brain mask from the loaded model\n",
    "The brain mask is identical to that predicted before saving."
   ]
  },
  {
   "cell_type": "code",
   "execution_count": null,
   "metadata": {
    "lines_to_next_cell": 2
   },
   "outputs": [],
   "source": [
    "image_path = filepaths[0][0]\n",
    "out = bem.predict(image_path, normalizer=standardize)\n",
    "out.shape\n",
    "\n",
    "fig = plt.figure(figsize=(12, 6))\n",
    "plotting.plot_roi(out, bg_img=image_path, cut_coords=(0, 10, -21), alpha=0.4, vmin=0, vmax=5, figure=fig)"
   ]
  },
  {
   "cell_type": "markdown",
   "id": "4bf1cd9c",
   "metadata": {},
   "source": [
    "# Another model for brain mask extraction"
   ]
  },
  {
   "cell_type": "markdown",
   "id": "fcc2f8ba",
   "metadata": {},
   "source": [
    "## Construct a MeshNet model\n",
    "Here we'll train `nobrainer`'s implementation of the MeshNet model for biomedical image segmentation, based on https://arxiv.org/abs/1612.00940)."
   ]
  },
  {
   "cell_type": "code",
   "execution_count": null,
   "id": "eb43c611",
   "metadata": {
    "id": "X8u_owicTa4T",
    "lines_to_next_cell": 2
   },
   "outputs": [],
   "source": [
    "from nobrainer.models import meshnet\n",
    "bem = Segmentation(meshnet, model_args=dict(filters=25))"
   ]
  },
  {
   "cell_type": "markdown",
   "id": "4b1fc440",
   "metadata": {},
   "source": [
    "## Train the MeshNet model on the example data\n",
    "A summary of the model layers is printed before training starts."
   ]
  },
  {
   "cell_type": "code",
   "execution_count": null,
   "id": "3541445c",
   "metadata": {
    "lines_to_next_cell": 2
   },
   "outputs": [],
   "source": [
    "history = bem.fit(dataset_train=dataset_train,\n",
    "                  dataset_validate=dataset_eval,\n",
    "                  epochs=n_epochs,\n",
    "                  multi_gpu=True,\n",
    "                  )"
   ]
  },
  {
   "cell_type": "markdown",
   "id": "d1affb94",
   "metadata": {},
   "source": [
    "## Use the trained MeshNet model to predict a binary brain mask"
   ]
  },
  {
   "cell_type": "code",
   "execution_count": null,
   "id": "16e2b426",
   "metadata": {
    "id": "OWqLu2xFTa4U",
    "lines_to_next_cell": 2
   },
   "outputs": [],
   "source": [
    "import matplotlib.pyplot as plt\n",
    "from nilearn import plotting\n",
    "from nobrainer.volume import standardize\n",
    "\n",
    "image_path = filepaths[0][0]\n",
    "out = bem.predict(image_path, normalizer=standardize)\n",
    "out.shape\n",
    "\n",
    "fig = plt.figure(figsize=(12, 6))\n",
    "plotting.plot_roi(out, bg_img=image_path, cut_coords=(0, 10, -21), alpha=0.4, vmin=0, vmax=5, figure=fig)"
   ]
  },
  {
   "cell_type": "markdown",
   "id": "83b5c7d0",
   "metadata": {},
   "source": [
    "## Save the MeshNet model"
   ]
  },
  {
   "cell_type": "code",
   "execution_count": null,
   "id": "0f8f5326",
   "metadata": {},
   "outputs": [],
   "source": [
    "bem.save(\"data/meshnet-brainmask-toy\")"
   ]
  }
 ],
 "metadata": {
  "accelerator": "GPU",
  "colab": {
   "name": "03-train-brain-extraction.ipynb",
   "provenance": []
  },
  "jupytext": {
   "main_language": "python"
  },
  "language_info": {
   "codemirror_mode": {
    "name": "ipython",
    "version": 3
   },
   "file_extension": ".py",
   "mimetype": "text/x-python",
   "name": "python",
   "nbconvert_exporter": "python",
   "pygments_lexer": "ipython3",
   "version": "3.9.10"
  }
 },
 "nbformat": 4,
 "nbformat_minor": 4
}
