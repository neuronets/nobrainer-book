{
 "cells": [
  {
   "cell_type": "raw",
   "id": "a26bb372",
   "metadata": {},
   "source": [
    "---\n",
    "kernelspec:\n",
    "  display_name: Python 3\n",
    "  name: python3\n",
    "---"
   ]
  },
  {
   "cell_type": "markdown",
   "metadata": {
    "id": "8g2WKuIv5tPg"
   },
   "source": [
    "# Preparing training data\n",
    "\n",
    "In this tutorial, we will convert medical imaging data to the TFRecords format. Having data in the TFRecords format speeds up training and allows us to use standard, highly-optimized TensorFlow I/O methods. We will then create a `tf.data.Dataset` object using the TFRecords data. This `tf.data.Dataset` object can be used for training, evaluation, or prediction.\n",
    "\n",
    "This tutorial will use a small publicly available dataset. To convert your own data, you will need to create a nested list of features and labels volumes (see below)."
   ]
  },
  {
   "cell_type": "code",
   "execution_count": null,
   "metadata": {},
   "outputs": [],
   "source": [
    "!pip install nobrainer"
   ]
  },
  {
   "cell_type": "code",
   "execution_count": null,
   "id": "5b5efd9d",
   "metadata": {
    "id": "egda7m595tPi"
   },
   "outputs": [],
   "source": [
    "import nobrainer"
   ]
  },
  {
   "cell_type": "markdown",
   "metadata": {
    "id": "HeWmDZXq5tPj"
   },
   "source": [
    "## Get sample data\n",
    "\n",
    "Here, we download 10 T1-weighted brain scans and their corresponding FreeSurfer segmentations. These volumes take up about 46 MB and are saved to a temporary directory. The returned string `csv_path` is the path to a CSV file, each row of which contains the paths to a pair of features and labels volumes."
   ]
  },
  {
   "cell_type": "code",
   "execution_count": null,
   "metadata": {
    "id": "U1DD5tCh5tPk",
    "lines_to_next_cell": 2
   },
   "outputs": [],
   "source": [
    "csv_path = nobrainer.utils.get_data()\n",
    "filepaths = nobrainer.io.read_csv(csv_path)\n",
    "!cat {csv}"
   ]
  },
  {
   "cell_type": "markdown",
   "metadata": {},
   "source": [
    "### Visualize one training example, with the brainmask overlayed on the anatomical image."
   ]
  },
  {
   "cell_type": "code",
   "execution_count": null,
   "metadata": {
    "scrolled": false
   },
   "outputs": [],
   "source": [
    "import matplotlib.pyplot as plt\n",
    "from nilearn import plotting\n",
    "fig = plt.figure(figsize=(12, 6))\n",
    "plotting.plot_roi(filepaths[0][1], bg_img=filepaths[0][0], alpha=0.4, vmin=0, vmax=1.5, figure=fig)"
   ]
  },
  {
   "cell_type": "markdown",
   "id": "0191f9d4",
   "metadata": {
    "id": "rm8aVxsc5tPk"
   },
   "source": [
    "## Convert to volume files to TFRecords\n",
    "\n",
    "To achieve the best performance, training data should be in TFRecords format. This is the preferred file format for TensorFlow, Training can be done on medical imaging volume files but will be slower.\n"
   ]
  },
  {
   "cell_type": "code",
   "execution_count": null,
   "metadata": {
    "lines_to_next_cell": 2
   },
   "outputs": [],
   "source": [
    "from nobrainer.dataset import Dataset\n",
    "\n",
    "n_epochs = 2\n",
    "DT = Dataset(n_classes=1,\n",
    "             batch_size=2,\n",
    "             block_shape=(128, 128, 128),\n",
    "             n_epochs=n_epochs)\n",
    "\n",
    "dataset_train, dataset_eval = DT.from_files(paths=filepaths,\n",
    "                                            eval_size=0.1,\n",
    "                                            tfrecdir=\"data/binseg\",\n",
    "                                            shard_size=3,\n",
    "                                            augment=None,\n",
    "                                            shuffle_buffer_size=10,\n",
    "                                            num_parallel_calls=None)"
   ]
  },
  {
   "cell_type": "markdown",
   "metadata": {
    "id": "9oG79IlJ5tPl"
   },
   "source": [
    "# Create input data pipeline\n",
    "\n",
    "We will now create an data pipeline to feed our models with training data. The steps below will create a `tensorflow.data.Dataset` object that is built according to [TensorFlow's guidelines](https://www.tensorflow.org/guide/performance/datasets). The basic pipeline is summarized below.\n",
    "\n",
    "- Read data\n",
    "- Separate volumes into non-overlapping sub-volumes\n",
    "    - This is done to get around memory limitations with larger models.\n",
    "    - For example, a volume with shape (256, 256, 256) can be separated into eight non-overlapping blocks of shape (128, 128, 128).\n",
    "- Apply random rigid augmentations if requested.\n",
    "- Standard score volumes of features.\n",
    "- Binarize labels if binary segmentation.\n",
    "- Replace values according to some mapping if multi-class segmentation.\n",
    "- Batch the results so every iteration yields `batch_size` elements."
   ]
  },
  {
   "cell_type": "code",
   "execution_count": null,
   "metadata": {
    "id": "Au6YBWec5tPm"
   },
   "outputs": [],
   "source": [
    "# A glob pattern to match the files we want to train on.\n",
    "file_pattern = 'data/data_shard-*.tfrec'\n",
    "\n",
    "# The number of classes the model predicts. A value of 1 means the model performs\n",
    "# binary classification (i.e., target vs background).\n",
    "n_classes = 1\n",
    "\n",
    "# Batch size is the number of features and labels we train on with each step.\n",
    "batch_size = 2\n",
    "\n",
    "# The shape of the original volumes.\n",
    "volume_shape = (256, 256, 256)\n",
    "\n",
    "# The shape of the non-overlapping sub-volumes. Most models cannot be trained on\n",
    "# full volumes because of hardware and memory constraints, so we train and evaluate\n",
    "# on sub-volumes.\n",
    "block_shape = (128, 128, 128)\n",
    "\n",
    "# Whether or not to apply random rigid transformations to the data on the fly.\n",
    "# This can improve model generalizability but increases processing time.\n",
    "augment = False\n",
    "\n",
    "# The tfrecords filepaths will be shuffled before reading, but we can also shuffle\n",
    "# the data. This will shuffle 10 volumes at a time. Larger buffer sizes will require\n",
    "# more memory, so choose a value based on how much memory you have available.\n",
    "shuffle_buffer_size = 10\n",
    "\n",
    "# Number of parallel processes to use.\n",
    "num_parallel_calls = 6"
   ]
  },
  {
   "cell_type": "code",
   "execution_count": null,
   "metadata": {
    "id": "gOLBC_8R5tPn",
    "scrolled": true
   },
   "outputs": [],
   "source": [
    "!ls $file_pattern"
   ]
  },
  {
   "cell_type": "code",
   "execution_count": null,
   "metadata": {
    "id": "3qaZ8eoe5tPn",
    "scrolled": false
   },
   "outputs": [],
   "source": [
    "dataset = nobrainer.dataset.get_dataset(\n",
    "    file_pattern=file_pattern,\n",
    "    n_classes=n_classes,\n",
    "    batch_size=batch_size,\n",
    "    volume_shape=volume_shape,\n",
    "    block_shape=block_shape,\n",
    "    augment=augment,\n",
    "    n_epochs=1,\n",
    "    shuffle_buffer_size=shuffle_buffer_size,\n",
    "    num_parallel_calls=num_parallel_calls)\n",
    "\n",
    "dataset"
   ]
  },
  {
   "cell_type": "markdown",
   "metadata": {
    "id": "EM8fATVF5tPn"
   },
   "source": [
    "# Train a model\n",
    "\n",
    "We will briefly demonstrate how to train a model given the `tf.data.Dataset` we created."
   ]
  },
  {
   "cell_type": "markdown",
   "metadata": {
    "id": "qYrNoHSx5tPo"
   },
   "source": [
    "## Instantiate a pre-defined `nobrainer` model\n",
    "\n",
    "Users can find pre-defined models under the namespace `nobrainer.models`. All models are implemented using the `tf.keras` API, which makes definitions highly readable and hackable, despite being a high-level interface."
   ]
  },
  {
   "cell_type": "code",
   "execution_count": null,
   "metadata": {
    "id": "iPDE6n8e5tPo",
    "scrolled": true
   },
   "outputs": [],
   "source": [
    "model = nobrainer.models.unet(n_classes=n_classes, input_shape=(*block_shape, 1))"
   ]
  },
  {
   "cell_type": "markdown",
   "metadata": {
    "id": "iEo-bJAo5tPo"
   },
   "source": [
    "## Compile the model\n",
    "\n",
    "All Keras models must be compiled before they can be trained. This is where you choose the optimizer, loss function, and any metrics that should be reported during training. Nobrainer implements several loss functions useful for semantic segmentation, including Dice, Generalized Dice, Focal, Jaccard, and Tversky losses."
   ]
  },
  {
   "cell_type": "code",
   "execution_count": null,
   "metadata": {
    "id": "YvhD-oAf5tPo"
   },
   "outputs": [],
   "source": [
    "import tensorflow as tf"
   ]
  },
  {
   "cell_type": "code",
   "execution_count": null,
   "metadata": {
    "id": "FfB-X1RP5tPp"
   },
   "outputs": [],
   "source": [
    "model.compile(\n",
    "    optimizer=tf.keras.optimizers.Adam(learning_rate=1e-04),\n",
    "    loss=nobrainer.losses.jaccard,\n",
    "    metrics=[nobrainer.metrics.dice])"
   ]
  },
  {
   "cell_type": "markdown",
   "metadata": {
    "id": "bhXfMXI_5tPp"
   },
   "source": [
    "## Train on a single GPU\n",
    "\n",
    "To learn how to train on multiple GPUs or on a TPU, please refer to the other notebooks in the nobrainer guide."
   ]
  },
  {
   "cell_type": "code",
   "execution_count": null,
   "metadata": {
    "id": "SGhxkll75tPp"
   },
   "outputs": [],
   "source": [
    "steps_per_epoch = nobrainer.dataset.get_steps_per_epoch(\n",
    "    n_volumes=10,\n",
    "    volume_shape=volume_shape,\n",
    "    block_shape=block_shape,\n",
    "    batch_size=batch_size)\n",
    "\n",
    "steps_per_epoch"
   ]
  },
  {
   "cell_type": "markdown",
   "metadata": {
    "id": "S_rIE6pL7b2O"
   },
   "source": [
    "The following code may take some time to initialize and on a GPU (if enabled) will take about a minute and a half to run."
   ]
  },
  {
   "cell_type": "code",
   "execution_count": null,
   "metadata": {
    "id": "IIYcof_M5tPp"
   },
   "outputs": [],
   "source": [
    "model.fit(dataset, steps_per_epoch=steps_per_epoch)"
   ]
  }
 ],
 "metadata": {
  "accelerator": "GPU",
  "colab": {
   "name": "02-preparing_training_data.ipynb",
   "provenance": []
  },
  "jupytext": {
   "formats": "ipynb,py:percent",
   "main_language": "python"
  },
  "language_info": {
   "codemirror_mode": {
    "name": "ipython",
    "version": 3
   },
   "file_extension": ".py",
   "mimetype": "text/x-python",
   "name": "python",
   "nbconvert_exporter": "python",
   "pygments_lexer": "ipython3",
   "version": "3.7.6"
  }
 },
 "nbformat": 4,
 "nbformat_minor": 0
}
